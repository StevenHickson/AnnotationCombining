{
 "cells": [
  {
   "cell_type": "code",
   "execution_count": 1,
   "metadata": {
    "collapsed": false
   },
   "outputs": [
    {
     "name": "stderr",
     "output_type": "stream",
     "text": [
      "/home/steve/anaconda2/lib/python2.7/site-packages/matplotlib/font_manager.py:273: UserWarning: Matplotlib is building the font cache using fc-list. This may take a moment.\n",
      "  warnings.warn('Matplotlib is building the font cache using fc-list. This may take a moment.')\n"
     ]
    }
   ],
   "source": [
    "import numpy as np\n",
    "import PIL.Image\n",
    "import os\n",
    "import shutil\n",
    "import zipfile\n",
    "import re\n",
    "import cv2\n",
    "import difflib\n",
    "import glob\n",
    "import matplotlib.pyplot as plt\n",
    "from matplotlib import cm\n",
    "from subprocess import call\n",
    "%matplotlib inline\n",
    "#green_purple = brewer2mpl.get_map('Paired', 'Qualitative', 11).mpl_colormap"
   ]
  },
  {
   "cell_type": "code",
   "execution_count": 2,
   "metadata": {
    "collapsed": true
   },
   "outputs": [],
   "source": [
    "dataset_labels = dict([('background', 0),\n",
    "                    ('books', 1),\n",
    "                    ('cabinets', 2),\n",
    "                    ('ceiling', 3),\n",
    "                    ('chair', 4),\n",
    "                    ('computer', 5),\n",
    "                    ('cup', 6),\n",
    "                    ('bottle', 6),\n",
    "                    ('door', 7),\n",
    "                    ('fire_extinguisher', 8),\n",
    "                    ('floor', 9),\n",
    "                    ('fridge', 10),\n",
    "                    ('keyboard', 11),\n",
    "                    ('monitor', 12),\n",
    "                    ('person', 13),\n",
    "                    ('poster', 14),\n",
    "                    ('signs', 15),\n",
    "                    ('table', 16),\n",
    "                    ('trashcan', 17),\n",
    "                    ('walls', 18),\n",
    "                    ('whiteboard', 19)])\n",
    "\n",
    "B_labels = [0,170,219,219,147,69,65,69,137,113,170,169,0,65,255,185,137,209,113,0]\n",
    "G_labels = [0,70,132,132,169,114,152,114,165,88,70,155,255,152,255,205,165,147,88,0]\n",
    "R_labels = [0,67,61,61,207,167,175,167,78,143,67,189,0,175,0,150,78,146,143,255]"
   ]
  },
  {
   "cell_type": "code",
   "execution_count": null,
   "metadata": {
    "collapsed": false
   },
   "outputs": [
    {
     "name": "stdout",
     "output_type": "stream",
     "text": [
      "22\n",
      "{65025: 18, 12082050: 11, 13926531: 17, 3481062: 10, 11072167: 3, 7370408: 4, 11028939: 13, 5470066: 1, 6918958: 15, 13627856: 16, 3989905: 8, 8950578: 19, 14274196: 7, 15445366: 14, 4265560: 5, 9601977: 12, 4515962: 9, 13354466: 6, 16539837: 2}"
     ]
    }
   ],
   "source": [
    "length = 66\n",
    "os.chdir('annotations/')\n",
    "with open('../test_files.txt') as f:\n",
    "    for line in f:\n",
    "        fields = line.split(',')\n",
    "        filename = os.path.splitext(fields[0])[0]+'.zip'\n",
    "        start = int(fields[1])\n",
    "        print start\n",
    "        video = fields[2][1:]\n",
    "        #print(filename + ' - ' + start + ' - ' + video)\n",
    "        with zipfile.ZipFile(filename, \"r\") as z:\n",
    "            z.extractall(\"./\")\n",
    "        #os.chdir('rendered')\n",
    "        #Get color dictionary\n",
    "        colors = dict()\n",
    "        with open('rendered/colors.json') as c:\n",
    "            for line2 in c:\n",
    "                fields = line2.split(',')\n",
    "                try:\n",
    "                    name = difflib.get_close_matches(fields[0], dataset_labels.keys())[0]\n",
    "                except:\n",
    "                    print 'Could not match: ' + fields[0]\n",
    "                tmp = int(fields[1]) * 255 * 255 + int(fields[2]) * 255 + int(fields[3])\n",
    "                #print(name + \": \" + str(tmp))\n",
    "                colors[tmp] = dataset_labels[name]\n",
    "        print colors\n",
    "        with open('map.txt', 'w') as cf:\n",
    "            cf.writelines('{}:{}\\n'.format(k,v) for k, v in colors.items())\n",
    "        #Convert colored images\n",
    "        #os.chdir('../')\n",
    "        #imageFiles = sorted(glob.glob('rendered/*.png'), key = lambda x: x.rsplit('.', 1)[0])\n",
    "        #Too slow to do in python, writing C++ to do this\n",
    "        \n",
    "        numImages = len(glob.glob('rendered/*.png'))\n",
    "        call([\"../change_labels/bin/Change_Labels\", str(start), video, str(numImages)])\n",
    "        #Cleanup\n",
    "        shutil.rmtree('rendered')\n",
    "\n",
    "os.chdir('../')     "
   ]
  },
  {
   "cell_type": "code",
   "execution_count": null,
   "metadata": {
    "collapsed": false
   },
   "outputs": [],
   "source": [
    "img = cv2.imread('annotations/vid3/660_2.png', 0)\n",
    "f1 = plt.imshow(img, cmap=cm.jet,alpha=0.75)\n",
    "plt.colorbar()\n",
    "plt.show()\n",
    "print(np.unique(img))"
   ]
  },
  {
   "cell_type": "code",
   "execution_count": null,
   "metadata": {
    "collapsed": true
   },
   "outputs": [],
   "source": [
    "count = 0\n",
    "        for imgF in imageFiles:\n",
    "            #read each image\n",
    "            img = cv2.imread(imgF)\n",
    "            m = np.zeros((img.shape[0], img.shape[1]), dtype=np.uint8)\n",
    "            itI = np.nditer(img, flags=['f_index'])\n",
    "            itM = np.nditer(m, flags=['f_index'], op_flags=['writeonly'])\n",
    "            i = 1\n",
    "            num1 = num2 = 0\n",
    "            while not itI.finished:\n",
    "                #every 3rd for rgb\n",
    "                if i % 3 == 0:\n",
    "                    val = num1 * 255 * 255 + num2 * 255 + int(itI[0])\n",
    "                    if val in colors:\n",
    "                        itM[0] = colors[val]\n",
    "                    else:\n",
    "                        itM[0] = 0\n",
    "                    itM.iternext()\n",
    "                elif i % 3 == 1:\n",
    "                    num1 = int(itI[0])\n",
    "                else:\n",
    "                    num2 = int(itI[0])\n",
    "                itI.iternext()\n",
    "                i = i + 1\n",
    "            #Need to figure out which frame this is\n",
    "            frame_num = start * 30 + count\n",
    "            ann_num = 2\n",
    "            if start % 3 == 0:\n",
    "                ann_num = 0\n",
    "            elif (start + 22) % 3 == 0:\n",
    "                ann_num = 1\n",
    "            outFile = video + '/' + str(frame_num) + '_' + str(ann_num) + '.png'\n",
    "            print outFile\n",
    "            count = count + 1\n",
    "            cv2.imwrite(outFile,m)"
   ]
  },
  {
   "cell_type": "code",
   "execution_count": null,
   "metadata": {
    "collapsed": false
   },
   "outputs": [],
   "source": [
    "with open('map.txt', 'w') as cf:\n",
    "    cf.writelines('{}:{}\\n'.format(k,v) for k, v in dataset_labels.items())"
   ]
  },
  {
   "cell_type": "code",
   "execution_count": null,
   "metadata": {
    "collapsed": true
   },
   "outputs": [],
   "source": []
  }
 ],
 "metadata": {
  "kernelspec": {
   "display_name": "Python 2",
   "language": "python",
   "name": "python2"
  },
  "language_info": {
   "codemirror_mode": {
    "name": "ipython",
    "version": 2
   },
   "file_extension": ".py",
   "mimetype": "text/x-python",
   "name": "python",
   "nbconvert_exporter": "python",
   "pygments_lexer": "ipython2",
   "version": "2.7.11"
  }
 },
 "nbformat": 4,
 "nbformat_minor": 0
}

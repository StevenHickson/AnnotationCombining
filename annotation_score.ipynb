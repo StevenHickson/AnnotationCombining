{
 "cells": [
  {
   "cell_type": "code",
   "execution_count": 1,
   "metadata": {
    "collapsed": false
   },
   "outputs": [
    {
     "name": "stderr",
     "output_type": "stream",
     "text": [
      "/home/steve/anaconda2/lib/python2.7/site-packages/matplotlib/font_manager.py:273: UserWarning: Matplotlib is building the font cache using fc-list. This may take a moment.\n",
      "  warnings.warn('Matplotlib is building the font cache using fc-list. This may take a moment.')\n"
     ]
    }
   ],
   "source": [
    "import numpy as np\n",
    "import PIL.Image\n",
    "import os\n",
    "import shutil\n",
    "import zipfile\n",
    "import re\n",
    "import cv2\n",
    "import difflib\n",
    "import glob\n",
    "import matplotlib.pyplot as plt\n",
    "from matplotlib import cm\n",
    "%matplotlib inline\n",
    "#green_purple = brewer2mpl.get_map('Paired', 'Qualitative', 11).mpl_colormap"
   ]
  },
  {
   "cell_type": "code",
   "execution_count": 2,
   "metadata": {
    "collapsed": true
   },
   "outputs": [],
   "source": [
    "dataset_labels = dict([('background', 0),\n",
    "                    ('books', 1),\n",
    "                    ('cabinets', 2),\n",
    "                    ('ceiling', 3),\n",
    "                    ('chair', 4),\n",
    "                    ('computer', 5),\n",
    "                    ('cup', 6),\n",
    "                    ('bottle', 6),\n",
    "                    ('door', 7),\n",
    "                    ('fire_extinguisher', 8),\n",
    "                    ('floor', 9),\n",
    "                    ('fridge', 10),\n",
    "                    ('keyboard', 11),\n",
    "                    ('monitor', 12),\n",
    "                    ('person', 13),\n",
    "                    ('poster', 14),\n",
    "                    ('signs', 15),\n",
    "                    ('table', 16),\n",
    "                    ('trashcan', 17),\n",
    "                    ('walls', 18),\n",
    "                    ('whiteboard', 19)])\n",
    "\n",
    "B_labels = [0,170,219,219,147,69,65,69,137,113,170,169,0,65,255,185,137,209,113,0]\n",
    "G_labels = [0,70,132,132,169,114,152,114,165,88,70,155,255,152,255,205,165,147,88,0]\n",
    "R_labels = [0,67,61,61,207,167,175,167,78,143,67,189,0,175,0,150,78,146,143,255]"
   ]
  },
  {
   "cell_type": "code",
   "execution_count": 5,
   "metadata": {
    "collapsed": false
   },
   "outputs": [
    {
     "name": "stdout",
     "output_type": "stream",
     "text": [
      "walls: 65025\n",
      "floor: 4515962\n",
      "ceiling: 11072167\n",
      "whiteboard: 8950578\n",
      "chair: 7370408\n",
      "computer: 4265560\n",
      "door: 14274196\n",
      "monitor: 9601977\n",
      "table: 13627856\n",
      "keyboard: 12082050\n",
      "person: 11028939\n",
      "books: 5470066\n",
      "fire_extinguisher: 3989905\n",
      "poster: 15445366\n",
      "trashcan: 13926531\n",
      "fridge: 3481062\n",
      "signs: 6918958\n",
      "cup: 13354466\n",
      "cabinets: 16539837\n",
      "{65025: 18, 12082050: 11, 13926531: 17, 3481062: 10, 11072167: 3, 7370408: 4, 11028939: 13, 5470066: 1, 6918958: 15, 13627856: 16, 3989905: 8, 8950578: 19, 14274196: 7, 15445366: 14, 4265560: 5, 9601977: 12, 4515962: 9, 13354466: 6, 16539837: 2}\n",
      "floor: 65025\n",
      "cabinets: 4515962\n",
      "books: 11072167\n",
      "walls: 8950578\n",
      "chair: 7370408\n",
      "computer: 4265560\n",
      "door: 14274196\n",
      "fire_extinguisher: 9601977\n",
      "table: 13627856\n",
      "ceiling: 12082050\n",
      "trashcan: 2549274\n",
      "keyboard: 11699060\n",
      "poster: 11771359\n",
      "whiteboard: 11558627\n",
      "monitor: 14747707\n",
      "cup: 7965852\n",
      "{65025: 9, 12082050: 3, 11558627: 19, 11072167: 1, 7370408: 4, 13627856: 16, 8950578: 18, 14274196: 7, 4265560: 5, 9601977: 8, 4515962: 2, 14747707: 12, 7965852: 6, 2549274: 17, 11699060: 11, 11771359: 14}\n",
      "floor: 65025\n",
      "ceiling: 4515962\n",
      "walls: 11072167\n",
      "fire_extinguisher: 8950578\n",
      "whiteboard: 7370408\n",
      "cabinets: 4265560\n",
      "door: 14274196\n",
      "books: 9601977\n",
      "chair: 12082050\n",
      "computer: 11347399\n",
      "keyboard: 8274655\n",
      "monitor: 11770534\n",
      "cup: 9975929\n",
      "fridge: 6629729\n",
      "poster: 7694841\n",
      "signs: 63500\n",
      "trashcan: 13627856\n",
      "table: 756429\n",
      "{65025: 9, 12082050: 4, 7694841: 14, 11770534: 12, 11072167: 18, 7370408: 19, 11347399: 5, 63500: 15, 756429: 16, 6629729: 10, 13627856: 17, 8950578: 8, 14274196: 7, 9975929: 6, 4265560: 2, 9601977: 1, 4515962: 3, 8274655: 11}\n",
      "books: 65025\n",
      "cabinets: 4515962\n",
      "ceiling: 11072167\n",
      "chair: 8950578\n",
      "computer: 7370408\n",
      "cup: 4265560\n",
      "door: 14274196\n",
      "fire_extinguisher: 9601977\n",
      "floor: 13627856\n",
      "fridge: 12082050\n",
      "keyboard: 11028939\n",
      "monitor: 850136\n",
      "poster: 13168332\n",
      "signs: 14689030\n",
      "table: 2730260\n",
      "trashcan: 3882670\n",
      "walls: 13746714\n",
      "whiteboard: 16417585\n",
      "{16417585: 19, 65025: 1, 12082050: 10, 14689030: 15, 11072167: 3, 7370408: 5, 2730260: 16, 11028939: 11, 13168332: 14, 3882670: 17, 13627856: 9, 850136: 12, 8950578: 4, 14274196: 7, 4265560: 6, 9601977: 8, 4515962: 2, 13746714: 18}\n"
     ]
    },
    {
     "ename": "KeyboardInterrupt",
     "evalue": "",
     "output_type": "error",
     "traceback": [
      "\u001b[1;31m---------------------------------------------------------------------------\u001b[0m",
      "\u001b[1;31mKeyboardInterrupt\u001b[0m                         Traceback (most recent call last)",
      "\u001b[1;32m<ipython-input-5-b2be19916e0e>\u001b[0m in \u001b[0;36m<module>\u001b[1;34m()\u001b[0m\n\u001b[0;32m      9\u001b[0m         \u001b[1;31m#print(filename + ' - ' + start + ' - ' + video)\u001b[0m\u001b[1;33m\u001b[0m\u001b[1;33m\u001b[0m\u001b[0m\n\u001b[0;32m     10\u001b[0m         \u001b[1;32mwith\u001b[0m \u001b[0mzipfile\u001b[0m\u001b[1;33m.\u001b[0m\u001b[0mZipFile\u001b[0m\u001b[1;33m(\u001b[0m\u001b[0mfilename\u001b[0m\u001b[1;33m,\u001b[0m \u001b[1;34m\"r\"\u001b[0m\u001b[1;33m)\u001b[0m \u001b[1;32mas\u001b[0m \u001b[0mz\u001b[0m\u001b[1;33m:\u001b[0m\u001b[1;33m\u001b[0m\u001b[0m\n\u001b[1;32m---> 11\u001b[1;33m             \u001b[0mz\u001b[0m\u001b[1;33m.\u001b[0m\u001b[0mextractall\u001b[0m\u001b[1;33m(\u001b[0m\u001b[1;34m\"./\"\u001b[0m\u001b[1;33m)\u001b[0m\u001b[1;33m\u001b[0m\u001b[0m\n\u001b[0m\u001b[0;32m     12\u001b[0m         \u001b[1;31m#os.chdir('rendered')\u001b[0m\u001b[1;33m\u001b[0m\u001b[1;33m\u001b[0m\u001b[0m\n\u001b[0;32m     13\u001b[0m         \u001b[1;31m#Get color dictionary\u001b[0m\u001b[1;33m\u001b[0m\u001b[1;33m\u001b[0m\u001b[0m\n",
      "\u001b[1;32m/home/steve/anaconda2/lib/python2.7/zipfile.pyc\u001b[0m in \u001b[0;36mextractall\u001b[1;34m(self, path, members, pwd)\u001b[0m\n\u001b[0;32m   1038\u001b[0m \u001b[1;33m\u001b[0m\u001b[0m\n\u001b[0;32m   1039\u001b[0m         \u001b[1;32mfor\u001b[0m \u001b[0mzipinfo\u001b[0m \u001b[1;32min\u001b[0m \u001b[0mmembers\u001b[0m\u001b[1;33m:\u001b[0m\u001b[1;33m\u001b[0m\u001b[0m\n\u001b[1;32m-> 1040\u001b[1;33m             \u001b[0mself\u001b[0m\u001b[1;33m.\u001b[0m\u001b[0mextract\u001b[0m\u001b[1;33m(\u001b[0m\u001b[0mzipinfo\u001b[0m\u001b[1;33m,\u001b[0m \u001b[0mpath\u001b[0m\u001b[1;33m,\u001b[0m \u001b[0mpwd\u001b[0m\u001b[1;33m)\u001b[0m\u001b[1;33m\u001b[0m\u001b[0m\n\u001b[0m\u001b[0;32m   1041\u001b[0m \u001b[1;33m\u001b[0m\u001b[0m\n\u001b[0;32m   1042\u001b[0m     \u001b[1;32mdef\u001b[0m \u001b[0m_extract_member\u001b[0m\u001b[1;33m(\u001b[0m\u001b[0mself\u001b[0m\u001b[1;33m,\u001b[0m \u001b[0mmember\u001b[0m\u001b[1;33m,\u001b[0m \u001b[0mtargetpath\u001b[0m\u001b[1;33m,\u001b[0m \u001b[0mpwd\u001b[0m\u001b[1;33m)\u001b[0m\u001b[1;33m:\u001b[0m\u001b[1;33m\u001b[0m\u001b[0m\n",
      "\u001b[1;32m/home/steve/anaconda2/lib/python2.7/zipfile.pyc\u001b[0m in \u001b[0;36mextract\u001b[1;34m(self, member, path, pwd)\u001b[0m\n\u001b[0;32m   1026\u001b[0m             \u001b[0mpath\u001b[0m \u001b[1;33m=\u001b[0m \u001b[0mos\u001b[0m\u001b[1;33m.\u001b[0m\u001b[0mgetcwd\u001b[0m\u001b[1;33m(\u001b[0m\u001b[1;33m)\u001b[0m\u001b[1;33m\u001b[0m\u001b[0m\n\u001b[0;32m   1027\u001b[0m \u001b[1;33m\u001b[0m\u001b[0m\n\u001b[1;32m-> 1028\u001b[1;33m         \u001b[1;32mreturn\u001b[0m \u001b[0mself\u001b[0m\u001b[1;33m.\u001b[0m\u001b[0m_extract_member\u001b[0m\u001b[1;33m(\u001b[0m\u001b[0mmember\u001b[0m\u001b[1;33m,\u001b[0m \u001b[0mpath\u001b[0m\u001b[1;33m,\u001b[0m \u001b[0mpwd\u001b[0m\u001b[1;33m)\u001b[0m\u001b[1;33m\u001b[0m\u001b[0m\n\u001b[0m\u001b[0;32m   1029\u001b[0m \u001b[1;33m\u001b[0m\u001b[0m\n\u001b[0;32m   1030\u001b[0m     \u001b[1;32mdef\u001b[0m \u001b[0mextractall\u001b[0m\u001b[1;33m(\u001b[0m\u001b[0mself\u001b[0m\u001b[1;33m,\u001b[0m \u001b[0mpath\u001b[0m\u001b[1;33m=\u001b[0m\u001b[0mNone\u001b[0m\u001b[1;33m,\u001b[0m \u001b[0mmembers\u001b[0m\u001b[1;33m=\u001b[0m\u001b[0mNone\u001b[0m\u001b[1;33m,\u001b[0m \u001b[0mpwd\u001b[0m\u001b[1;33m=\u001b[0m\u001b[0mNone\u001b[0m\u001b[1;33m)\u001b[0m\u001b[1;33m:\u001b[0m\u001b[1;33m\u001b[0m\u001b[0m\n",
      "\u001b[1;32m/home/steve/anaconda2/lib/python2.7/zipfile.pyc\u001b[0m in \u001b[0;36m_extract_member\u001b[1;34m(self, member, targetpath, pwd)\u001b[0m\n\u001b[0;32m   1080\u001b[0m             \u001b[1;32mreturn\u001b[0m \u001b[0mtargetpath\u001b[0m\u001b[1;33m\u001b[0m\u001b[0m\n\u001b[0;32m   1081\u001b[0m \u001b[1;33m\u001b[0m\u001b[0m\n\u001b[1;32m-> 1082\u001b[1;33m         \u001b[1;32mwith\u001b[0m \u001b[0mself\u001b[0m\u001b[1;33m.\u001b[0m\u001b[0mopen\u001b[0m\u001b[1;33m(\u001b[0m\u001b[0mmember\u001b[0m\u001b[1;33m,\u001b[0m \u001b[0mpwd\u001b[0m\u001b[1;33m=\u001b[0m\u001b[0mpwd\u001b[0m\u001b[1;33m)\u001b[0m \u001b[1;32mas\u001b[0m \u001b[0msource\u001b[0m\u001b[1;33m,\u001b[0m\u001b[0;31m \u001b[0m\u001b[0;31m\\\u001b[0m\u001b[1;33m\u001b[0m\u001b[0m\n\u001b[0m\u001b[0;32m   1083\u001b[0m              \u001b[0mfile\u001b[0m\u001b[1;33m(\u001b[0m\u001b[0mtargetpath\u001b[0m\u001b[1;33m,\u001b[0m \u001b[1;34m\"wb\"\u001b[0m\u001b[1;33m)\u001b[0m \u001b[1;32mas\u001b[0m \u001b[0mtarget\u001b[0m\u001b[1;33m:\u001b[0m\u001b[1;33m\u001b[0m\u001b[0m\n\u001b[0;32m   1084\u001b[0m             \u001b[0mshutil\u001b[0m\u001b[1;33m.\u001b[0m\u001b[0mcopyfileobj\u001b[0m\u001b[1;33m(\u001b[0m\u001b[0msource\u001b[0m\u001b[1;33m,\u001b[0m \u001b[0mtarget\u001b[0m\u001b[1;33m)\u001b[0m\u001b[1;33m\u001b[0m\u001b[0m\n",
      "\u001b[1;32m/home/steve/anaconda2/lib/python2.7/zipfile.pyc\u001b[0m in \u001b[0;36mopen\u001b[1;34m(self, name, mode, pwd)\u001b[0m\n\u001b[0;32m   1008\u001b[0m \u001b[1;33m\u001b[0m\u001b[0m\n\u001b[0;32m   1009\u001b[0m             return ZipExtFile(zef_file, mode, zinfo, zd,\n\u001b[1;32m-> 1010\u001b[1;33m                     close_fileobj=should_close)\n\u001b[0m\u001b[0;32m   1011\u001b[0m         \u001b[1;32mexcept\u001b[0m\u001b[1;33m:\u001b[0m\u001b[1;33m\u001b[0m\u001b[0m\n\u001b[0;32m   1012\u001b[0m             \u001b[1;32mif\u001b[0m \u001b[0mshould_close\u001b[0m\u001b[1;33m:\u001b[0m\u001b[1;33m\u001b[0m\u001b[0m\n",
      "\u001b[1;32m/home/steve/anaconda2/lib/python2.7/zipfile.pyc\u001b[0m in \u001b[0;36m__init__\u001b[1;34m(self, fileobj, mode, zipinfo, decrypter, close_fileobj)\u001b[0m\n\u001b[0;32m    521\u001b[0m         \u001b[0mself\u001b[0m\u001b[1;33m.\u001b[0m\u001b[0m_compress_type\u001b[0m \u001b[1;33m=\u001b[0m \u001b[0mzipinfo\u001b[0m\u001b[1;33m.\u001b[0m\u001b[0mcompress_type\u001b[0m\u001b[1;33m\u001b[0m\u001b[0m\n\u001b[0;32m    522\u001b[0m         \u001b[0mself\u001b[0m\u001b[1;33m.\u001b[0m\u001b[0m_compress_size\u001b[0m \u001b[1;33m=\u001b[0m \u001b[0mzipinfo\u001b[0m\u001b[1;33m.\u001b[0m\u001b[0mcompress_size\u001b[0m\u001b[1;33m\u001b[0m\u001b[0m\n\u001b[1;32m--> 523\u001b[1;33m         \u001b[0mself\u001b[0m\u001b[1;33m.\u001b[0m\u001b[0m_compress_left\u001b[0m \u001b[1;33m=\u001b[0m \u001b[0mzipinfo\u001b[0m\u001b[1;33m.\u001b[0m\u001b[0mcompress_size\u001b[0m\u001b[1;33m\u001b[0m\u001b[0m\n\u001b[0m\u001b[0;32m    524\u001b[0m \u001b[1;33m\u001b[0m\u001b[0m\n\u001b[0;32m    525\u001b[0m         \u001b[1;32mif\u001b[0m \u001b[0mself\u001b[0m\u001b[1;33m.\u001b[0m\u001b[0m_compress_type\u001b[0m \u001b[1;33m==\u001b[0m \u001b[0mZIP_DEFLATED\u001b[0m\u001b[1;33m:\u001b[0m\u001b[1;33m\u001b[0m\u001b[0m\n",
      "\u001b[1;31mKeyboardInterrupt\u001b[0m: "
     ]
    }
   ],
   "source": [
    "length = 66\n",
    "os.chdir('annotations/')\n",
    "with open('../test_files.txt') as f:\n",
    "    for line in f:\n",
    "        fields = line.split(',')\n",
    "        filename = os.path.splitext(fields[0])[0]+'.zip'\n",
    "        start = int(fields[1])\n",
    "        video = fields[2][1:]\n",
    "        #print(filename + ' - ' + start + ' - ' + video)\n",
    "        with zipfile.ZipFile(filename, \"r\") as z:\n",
    "            z.extractall(\"./\")\n",
    "        #os.chdir('rendered')\n",
    "        #Get color dictionary\n",
    "        colors = dict()\n",
    "        with open('rendered/colors.json') as c:\n",
    "            for line2 in c:\n",
    "                fields = line2.split(',')\n",
    "                try:\n",
    "                    name = difflib.get_close_matches(fields[0], dataset_labels.keys())[0]\n",
    "                except:\n",
    "                    print 'Could not match: ' + fields[0]\n",
    "                tmp = int(fields[1]) * 255 * 255 + int(fields[2]) * 255 + int(fields[3])\n",
    "                print(name + \": \" + str(tmp))\n",
    "                colors[tmp] = dataset_labels[name]\n",
    "        print colors\n",
    "        with open('map.txt', 'w') as cf:\n",
    "            cf.writelines('{}:{}\\n'.format(k,v) for k, v in colors.items())\n",
    "        #Convert colored images\n",
    "        #os.chdir('../')\n",
    "        #imageFiles = sorted(glob.glob('rendered/*.png'), key = lambda x: x.rsplit('.', 1)[0])\n",
    "        #Too slow to do in python, writing C++ to do this\n",
    "        \n",
    "        numImages = len(glob.glob('rendered/*.png'))\n",
    "        #Cleanup\n",
    "        #shutil.rmtree('rendered')\n",
    "\n",
    "os.chdir('../')     "
   ]
  },
  {
   "cell_type": "code",
   "execution_count": null,
   "metadata": {
    "collapsed": false
   },
   "outputs": [],
   "source": [
    "img = cv2.imread('annotations/vid3/680_2.png', 0)\n",
    "f1 = plt.imshow(img, cmap=cm.jet,alpha=0.75)\n",
    "plt.colorbar()\n",
    "plt.show()\n",
    "print(np.unique(img))"
   ]
  },
  {
   "cell_type": "code",
   "execution_count": null,
   "metadata": {
    "collapsed": true
   },
   "outputs": [],
   "source": [
    "count = 0\n",
    "        for imgF in imageFiles:\n",
    "            #read each image\n",
    "            img = cv2.imread(imgF)\n",
    "            m = np.zeros((img.shape[0], img.shape[1]), dtype=np.uint8)\n",
    "            itI = np.nditer(img, flags=['f_index'])\n",
    "            itM = np.nditer(m, flags=['f_index'], op_flags=['writeonly'])\n",
    "            i = 1\n",
    "            num1 = num2 = 0\n",
    "            while not itI.finished:\n",
    "                #every 3rd for rgb\n",
    "                if i % 3 == 0:\n",
    "                    val = num1 * 255 * 255 + num2 * 255 + int(itI[0])\n",
    "                    if val in colors:\n",
    "                        itM[0] = colors[val]\n",
    "                    else:\n",
    "                        itM[0] = 0\n",
    "                    itM.iternext()\n",
    "                elif i % 3 == 1:\n",
    "                    num1 = int(itI[0])\n",
    "                else:\n",
    "                    num2 = int(itI[0])\n",
    "                itI.iternext()\n",
    "                i = i + 1\n",
    "            #Need to figure out which frame this is\n",
    "            frame_num = start * 30 + count\n",
    "            ann_num = 2\n",
    "            if start % 3 == 0:\n",
    "                ann_num = 0\n",
    "            elif (start + 22) % 3 == 0:\n",
    "                ann_num = 1\n",
    "            outFile = video + '/' + str(frame_num) + '_' + str(ann_num) + '.png'\n",
    "            print outFile\n",
    "            count = count + 1\n",
    "            cv2.imwrite(outFile,m)"
   ]
  },
  {
   "cell_type": "code",
   "execution_count": 6,
   "metadata": {
    "collapsed": false
   },
   "outputs": [],
   "source": [
    "with open('map.txt', 'w') as cf:\n",
    "    cf.writelines('{}:{}\\n'.format(k,v) for k, v in dataset_labels.items())"
   ]
  },
  {
   "cell_type": "code",
   "execution_count": null,
   "metadata": {
    "collapsed": true
   },
   "outputs": [],
   "source": []
  }
 ],
 "metadata": {
  "kernelspec": {
   "display_name": "Python 2",
   "language": "python",
   "name": "python2"
  },
  "language_info": {
   "codemirror_mode": {
    "name": "ipython",
    "version": 2
   },
   "file_extension": ".py",
   "mimetype": "text/x-python",
   "name": "python",
   "nbconvert_exporter": "python",
   "pygments_lexer": "ipython2",
   "version": "2.7.11"
  }
 },
 "nbformat": 4,
 "nbformat_minor": 0
}

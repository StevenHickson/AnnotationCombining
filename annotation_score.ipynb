{
 "cells": [
  {
   "cell_type": "code",
   "execution_count": 4,
   "metadata": {
    "collapsed": false
   },
   "outputs": [],
   "source": [
    "import numpy as np\n",
    "import PIL.Image\n",
    "import os\n",
    "import shutil\n",
    "import zipfile\n",
    "import re\n",
    "import cv2\n",
    "import difflib\n",
    "import glob\n",
    "import matplotlib.pyplot as plt\n",
    "from matplotlib import cm\n",
    "from subprocess import call\n",
    "%matplotlib inline\n",
    "#green_purple = brewer2mpl.get_map('Paired', 'Qualitative', 11).mpl_colormap"
   ]
  },
  {
   "cell_type": "code",
   "execution_count": 2,
   "metadata": {
    "collapsed": true
   },
   "outputs": [],
   "source": [
    "dataset_labels = dict([('background', 0),\n",
    "                    ('books', 1),\n",
    "                    ('cabinets', 2),\n",
    "                    ('ceiling', 3),\n",
    "                    ('chair', 4),\n",
    "                    ('computer', 5),\n",
    "                    ('cup', 6),\n",
    "                    ('bottle', 6),\n",
    "                    ('door', 7),\n",
    "                    ('fire_extinguisher', 8),\n",
    "                    ('floor', 9),\n",
    "                    ('fridge', 10),\n",
    "                    ('keyboard', 11),\n",
    "                    ('monitor', 12),\n",
    "                    ('person', 13),\n",
    "                    ('poster', 14),\n",
    "                    ('signs', 15),\n",
    "                    ('table', 16),\n",
    "                    ('trashcan', 17),\n",
    "                    ('walls', 18),\n",
    "                    ('whiteboard', 19)])\n",
    "\n",
    "B_labels = [0,170,219,219,147,69,65,69,137,113,170,169,0,65,255,185,137,209,113,0]\n",
    "G_labels = [0,70,132,132,169,114,152,114,165,88,70,155,255,152,255,205,165,147,88,0]\n",
    "R_labels = [0,67,61,61,207,167,175,167,78,143,67,189,0,175,0,150,78,146,143,255]"
   ]
  },
  {
   "cell_type": "code",
   "execution_count": 5,
   "metadata": {
    "collapsed": false
   },
   "outputs": [
    {
     "name": "stdout",
     "output_type": "stream",
     "text": [
      "walls: 65025\n",
      "floor: 4515962\n",
      "ceiling: 11072167\n",
      "whiteboard: 8950578\n",
      "chair: 7370408\n",
      "computer: 4265560\n",
      "door: 14274196\n",
      "monitor: 9601977\n",
      "table: 13627856\n",
      "keyboard: 12082050\n",
      "person: 11028939\n",
      "books: 5470066\n",
      "fire_extinguisher: 3989905\n",
      "poster: 15445366\n",
      "trashcan: 13926531\n",
      "fridge: 3481062\n",
      "signs: 6918958\n",
      "cup: 13354466\n",
      "cabinets: 16539837\n",
      "{65025: 18, 12082050: 11, 13926531: 17, 3481062: 10, 11072167: 3, 7370408: 4, 11028939: 13, 5470066: 1, 6918958: 15, 13627856: 16, 3989905: 8, 8950578: 19, 14274196: 7, 15445366: 14, 4265560: 5, 9601977: 12, 4515962: 9, 13354466: 6, 16539837: 2}\n"
     ]
    },
    {
     "ename": "TypeError",
     "evalue": "execv() arg 2 must contain only strings",
     "output_type": "error",
     "traceback": [
      "\u001b[1;31m---------------------------------------------------------------------------\u001b[0m",
      "\u001b[1;31mTypeError\u001b[0m                                 Traceback (most recent call last)",
      "\u001b[1;32m<ipython-input-5-cf8d77644e40>\u001b[0m in \u001b[0;36m<module>\u001b[1;34m()\u001b[0m\n\u001b[0;32m     32\u001b[0m \u001b[1;33m\u001b[0m\u001b[0m\n\u001b[0;32m     33\u001b[0m         \u001b[0mnumImages\u001b[0m \u001b[1;33m=\u001b[0m \u001b[0mlen\u001b[0m\u001b[1;33m(\u001b[0m\u001b[0mglob\u001b[0m\u001b[1;33m.\u001b[0m\u001b[0mglob\u001b[0m\u001b[1;33m(\u001b[0m\u001b[1;34m'rendered/*.png'\u001b[0m\u001b[1;33m)\u001b[0m\u001b[1;33m)\u001b[0m\u001b[1;33m\u001b[0m\u001b[0m\n\u001b[1;32m---> 34\u001b[1;33m         \u001b[0mcall\u001b[0m\u001b[1;33m(\u001b[0m\u001b[1;33m[\u001b[0m\u001b[1;34m\"../change_labels/bin/Change_Labels\"\u001b[0m\u001b[1;33m,\u001b[0m \u001b[0mstart\u001b[0m\u001b[1;33m,\u001b[0m \u001b[0mvideo\u001b[0m\u001b[1;33m,\u001b[0m \u001b[0mnumImages\u001b[0m\u001b[1;33m]\u001b[0m\u001b[1;33m)\u001b[0m\u001b[1;33m\u001b[0m\u001b[0m\n\u001b[0m\u001b[0;32m     35\u001b[0m         \u001b[1;31m#Cleanup\u001b[0m\u001b[1;33m\u001b[0m\u001b[1;33m\u001b[0m\u001b[0m\n\u001b[0;32m     36\u001b[0m         \u001b[0mshutil\u001b[0m\u001b[1;33m.\u001b[0m\u001b[0mrmtree\u001b[0m\u001b[1;33m(\u001b[0m\u001b[1;34m'rendered'\u001b[0m\u001b[1;33m)\u001b[0m\u001b[1;33m\u001b[0m\u001b[0m\n",
      "\u001b[1;32m/home/steve/anaconda2/lib/python2.7/subprocess.pyc\u001b[0m in \u001b[0;36mcall\u001b[1;34m(*popenargs, **kwargs)\u001b[0m\n\u001b[0;32m    520\u001b[0m     \u001b[0mretcode\u001b[0m \u001b[1;33m=\u001b[0m \u001b[0mcall\u001b[0m\u001b[1;33m(\u001b[0m\u001b[1;33m[\u001b[0m\u001b[1;34m\"ls\"\u001b[0m\u001b[1;33m,\u001b[0m \u001b[1;34m\"-l\"\u001b[0m\u001b[1;33m]\u001b[0m\u001b[1;33m)\u001b[0m\u001b[1;33m\u001b[0m\u001b[0m\n\u001b[0;32m    521\u001b[0m     \"\"\"\n\u001b[1;32m--> 522\u001b[1;33m     \u001b[1;32mreturn\u001b[0m \u001b[0mPopen\u001b[0m\u001b[1;33m(\u001b[0m\u001b[1;33m*\u001b[0m\u001b[0mpopenargs\u001b[0m\u001b[1;33m,\u001b[0m \u001b[1;33m**\u001b[0m\u001b[0mkwargs\u001b[0m\u001b[1;33m)\u001b[0m\u001b[1;33m.\u001b[0m\u001b[0mwait\u001b[0m\u001b[1;33m(\u001b[0m\u001b[1;33m)\u001b[0m\u001b[1;33m\u001b[0m\u001b[0m\n\u001b[0m\u001b[0;32m    523\u001b[0m \u001b[1;33m\u001b[0m\u001b[0m\n\u001b[0;32m    524\u001b[0m \u001b[1;33m\u001b[0m\u001b[0m\n",
      "\u001b[1;32m/home/steve/anaconda2/lib/python2.7/subprocess.pyc\u001b[0m in \u001b[0;36m__init__\u001b[1;34m(self, args, bufsize, executable, stdin, stdout, stderr, preexec_fn, close_fds, shell, cwd, env, universal_newlines, startupinfo, creationflags)\u001b[0m\n\u001b[0;32m    708\u001b[0m                                 \u001b[0mp2cread\u001b[0m\u001b[1;33m,\u001b[0m \u001b[0mp2cwrite\u001b[0m\u001b[1;33m,\u001b[0m\u001b[1;33m\u001b[0m\u001b[0m\n\u001b[0;32m    709\u001b[0m                                 \u001b[0mc2pread\u001b[0m\u001b[1;33m,\u001b[0m \u001b[0mc2pwrite\u001b[0m\u001b[1;33m,\u001b[0m\u001b[1;33m\u001b[0m\u001b[0m\n\u001b[1;32m--> 710\u001b[1;33m                                 errread, errwrite)\n\u001b[0m\u001b[0;32m    711\u001b[0m         \u001b[1;32mexcept\u001b[0m \u001b[0mException\u001b[0m\u001b[1;33m:\u001b[0m\u001b[1;33m\u001b[0m\u001b[0m\n\u001b[0;32m    712\u001b[0m             \u001b[1;31m# Preserve original exception in case os.close raises.\u001b[0m\u001b[1;33m\u001b[0m\u001b[1;33m\u001b[0m\u001b[0m\n",
      "\u001b[1;32m/home/steve/anaconda2/lib/python2.7/subprocess.pyc\u001b[0m in \u001b[0;36m_execute_child\u001b[1;34m(self, args, executable, preexec_fn, close_fds, cwd, env, universal_newlines, startupinfo, creationflags, shell, to_close, p2cread, p2cwrite, c2pread, c2pwrite, errread, errwrite)\u001b[0m\n\u001b[0;32m   1333\u001b[0m                         \u001b[1;32mraise\u001b[0m\u001b[1;33m\u001b[0m\u001b[0m\n\u001b[0;32m   1334\u001b[0m                 \u001b[0mchild_exception\u001b[0m \u001b[1;33m=\u001b[0m \u001b[0mpickle\u001b[0m\u001b[1;33m.\u001b[0m\u001b[0mloads\u001b[0m\u001b[1;33m(\u001b[0m\u001b[0mdata\u001b[0m\u001b[1;33m)\u001b[0m\u001b[1;33m\u001b[0m\u001b[0m\n\u001b[1;32m-> 1335\u001b[1;33m                 \u001b[1;32mraise\u001b[0m \u001b[0mchild_exception\u001b[0m\u001b[1;33m\u001b[0m\u001b[0m\n\u001b[0m\u001b[0;32m   1336\u001b[0m \u001b[1;33m\u001b[0m\u001b[0m\n\u001b[0;32m   1337\u001b[0m \u001b[1;33m\u001b[0m\u001b[0m\n",
      "\u001b[1;31mTypeError\u001b[0m: execv() arg 2 must contain only strings"
     ]
    }
   ],
   "source": [
    "length = 66\n",
    "os.chdir('annotations/')\n",
    "with open('../test_files.txt') as f:\n",
    "    for line in f:\n",
    "        fields = line.split(',')\n",
    "        filename = os.path.splitext(fields[0])[0]+'.zip'\n",
    "        start = int(fields[1])\n",
    "        video = fields[2][1:]\n",
    "        #print(filename + ' - ' + start + ' - ' + video)\n",
    "        with zipfile.ZipFile(filename, \"r\") as z:\n",
    "            z.extractall(\"./\")\n",
    "        #os.chdir('rendered')\n",
    "        #Get color dictionary\n",
    "        colors = dict()\n",
    "        with open('rendered/colors.json') as c:\n",
    "            for line2 in c:\n",
    "                fields = line2.split(',')\n",
    "                try:\n",
    "                    name = difflib.get_close_matches(fields[0], dataset_labels.keys())[0]\n",
    "                except:\n",
    "                    print 'Could not match: ' + fields[0]\n",
    "                tmp = int(fields[1]) * 255 * 255 + int(fields[2]) * 255 + int(fields[3])\n",
    "                print(name + \": \" + str(tmp))\n",
    "                colors[tmp] = dataset_labels[name]\n",
    "        print colors\n",
    "        with open('map.txt', 'w') as cf:\n",
    "            cf.writelines('{}:{}\\n'.format(k,v) for k, v in colors.items())\n",
    "        #Convert colored images\n",
    "        #os.chdir('../')\n",
    "        #imageFiles = sorted(glob.glob('rendered/*.png'), key = lambda x: x.rsplit('.', 1)[0])\n",
    "        #Too slow to do in python, writing C++ to do this\n",
    "        \n",
    "        numImages = len(glob.glob('rendered/*.png'))\n",
    "        call([\"../change_labels/bin/Change_Labels\", str(start), video, str(numImages)])\n",
    "        #Cleanup\n",
    "        shutil.rmtree('rendered')\n",
    "\n",
    "os.chdir('../')     "
   ]
  },
  {
   "cell_type": "code",
   "execution_count": 3,
   "metadata": {
    "collapsed": false
   },
   "outputs": [
    {
     "data": {
      "image/png": "[encoded data removed]",
      "text/plain": [
       "<matplotlib.figure.Figure at 0x7fc272904dd0>"
      ]
     },
     "metadata": {},
     "output_type": "display_data"
    },
    {
     "name": "stdout",
     "output_type": "stream",
     "text": [
      "[ 0  1  2  3  4  5  6  7  8  9 10]\n"
     ]
    }
   ],
   "source": [
    "img = cv2.imread('annotations/vid3/660_2.png', 0)\n",
    "f1 = plt.imshow(img, cmap=cm.jet,alpha=0.75)\n",
    "plt.colorbar()\n",
    "plt.show()\n",
    "print(np.unique(img))"
   ]
  },
  {
   "cell_type": "code",
   "execution_count": null,
   "metadata": {
    "collapsed": true
   },
   "outputs": [],
   "source": [
    "count = 0\n",
    "        for imgF in imageFiles:\n",
    "            #read each image\n",
    "            img = cv2.imread(imgF)\n",
    "            m = np.zeros((img.shape[0], img.shape[1]), dtype=np.uint8)\n",
    "            itI = np.nditer(img, flags=['f_index'])\n",
    "            itM = np.nditer(m, flags=['f_index'], op_flags=['writeonly'])\n",
    "            i = 1\n",
    "            num1 = num2 = 0\n",
    "            while not itI.finished:\n",
    "                #every 3rd for rgb\n",
    "                if i % 3 == 0:\n",
    "                    val = num1 * 255 * 255 + num2 * 255 + int(itI[0])\n",
    "                    if val in colors:\n",
    "                        itM[0] = colors[val]\n",
    "                    else:\n",
    "                        itM[0] = 0\n",
    "                    itM.iternext()\n",
    "                elif i % 3 == 1:\n",
    "                    num1 = int(itI[0])\n",
    "                else:\n",
    "                    num2 = int(itI[0])\n",
    "                itI.iternext()\n",
    "                i = i + 1\n",
    "            #Need to figure out which frame this is\n",
    "            frame_num = start * 30 + count\n",
    "            ann_num = 2\n",
    "            if start % 3 == 0:\n",
    "                ann_num = 0\n",
    "            elif (start + 22) % 3 == 0:\n",
    "                ann_num = 1\n",
    "            outFile = video + '/' + str(frame_num) + '_' + str(ann_num) + '.png'\n",
    "            print outFile\n",
    "            count = count + 1\n",
    "            cv2.imwrite(outFile,m)"
   ]
  },
  {
   "cell_type": "code",
   "execution_count": 6,
   "metadata": {
    "collapsed": false
   },
   "outputs": [],
   "source": [
    "with open('map.txt', 'w') as cf:\n",
    "    cf.writelines('{}:{}\\n'.format(k,v) for k, v in dataset_labels.items())"
   ]
  },
  {
   "cell_type": "code",
   "execution_count": null,
   "metadata": {
    "collapsed": true
   },
   "outputs": [],
   "source": []
  }
 ],
 "metadata": {
  "kernelspec": {
   "display_name": "Python 2",
   "language": "python",
   "name": "python2"
  },
  "language_info": {
   "codemirror_mode": {
    "name": "ipython",
    "version": 2
   },
   "file_extension": ".py",
   "mimetype": "text/x-python",
   "name": "python",
   "nbconvert_exporter": "python",
   "pygments_lexer": "ipython2",
   "version": "2.7.11"
  }
 },
 "nbformat": 4,
 "nbformat_minor": 0
}
